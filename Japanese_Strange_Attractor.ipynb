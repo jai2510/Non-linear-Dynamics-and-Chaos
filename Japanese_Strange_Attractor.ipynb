{
 "cells": [
  {
   "cell_type": "code",
   "execution_count": 1,
   "metadata": {
    "scrolled": true
   },
   "outputs": [],
   "source": [
    "from pylab import *\n",
    "import numpy as np\n",
    "import matplotlib.pyplot as plt\n",
    "%matplotlib inline"
   ]
  },
  {
   "cell_type": "markdown",
   "metadata": {},
   "source": [
    "Parameters"
   ]
  },
  {
   "cell_type": "code",
   "execution_count": 2,
   "metadata": {
    "scrolled": true
   },
   "outputs": [],
   "source": [
    "k = 0.1\n",
    "B = 12\n",
    "delta_t = 1e-5"
   ]
  },
  {
   "cell_type": "markdown",
   "metadata": {},
   "source": [
    "Inital Conditions"
   ]
  },
  {
   "cell_type": "code",
   "execution_count": 3,
   "metadata": {
    "scrolled": true
   },
   "outputs": [],
   "source": [
    "x_init = 3/18\n",
    "y_init = 1/18\n",
    "n = 3"
   ]
  },
  {
   "cell_type": "markdown",
   "metadata": {},
   "source": [
    "Iterative Algorithm"
   ]
  },
  {
   "cell_type": "code",
   "execution_count": null,
   "metadata": {
    "scrolled": true
   },
   "outputs": [],
   "source": [
    "x_n = x_init\n",
    "x_n_plus_1 = (y_init)*(delta_t) + (x_init)\n",
    "t_n = 0\n",
    "\n",
    "t_counter = []\n",
    "x_counter = []\n",
    "y_counter = []\n",
    "\n",
    "for iter_count in range(10**7):\n",
    "    t_n = (iter_count)*(delta_t) ; t_counter.append(t_n)\n",
    "    y_n = (x_n_plus_1 - x_n)/delta_t ; y_counter.append(y_n*2*n*pi)\n",
    "    x_counter.append(x_n*2*n*pi)\n",
    "    x_n_plus_2 = 2*(x_n_plus_1) - (x_n) + ((delta_t)**2)*(B*(np.cos(t_n)) - (x_n)**3) - ((k)*(delta_t))*((x_n_plus_1) - (x_n))\n",
    "    x_n = x_n_plus_1\n",
    "    x_n_plus_1 = x_n_plus_2\n",
    "    \n",
    "plt.plot(x_counter, y_counter,'g')"
   ]
  }
 ],
 "metadata": {
  "kernelspec": {
   "display_name": "Python 3",
   "language": "python",
   "name": "python3"
  },
  "language_info": {
   "codemirror_mode": {
    "name": "ipython",
    "version": 3
   },
   "file_extension": ".py",
   "mimetype": "text/x-python",
   "name": "python",
   "nbconvert_exporter": "python",
   "pygments_lexer": "ipython3",
   "version": "3.7.4"
  }
 },
 "nbformat": 4,
 "nbformat_minor": 2
}
