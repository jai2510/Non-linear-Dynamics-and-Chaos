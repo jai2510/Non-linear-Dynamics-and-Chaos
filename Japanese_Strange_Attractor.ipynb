{
 "cells": [
  {
   "cell_type": "code",
   "execution_count": 1,
   "metadata": {},
   "outputs": [],
   "source": [
    "from __future__ import print_function\n",
    "from ipywidgets import interact, interactive, fixed, interact_manual\n",
    "import ipywidgets as widgets\n",
    "import numpy as np\n",
    "import matplotlib.pyplot as plt\n",
    "%matplotlib inline\n",
    "from mpl_toolkits.mplot3d import Axes3D"
   ]
  },
  {
   "cell_type": "markdown",
   "metadata": {},
   "source": [
    "Parameters"
   ]
  },
  {
   "cell_type": "code",
   "execution_count": 2,
   "metadata": {},
   "outputs": [],
   "source": [
    "k = 0.1\n",
    "B = 7.5\n",
    "delta_t = 1e-3"
   ]
  },
  {
   "cell_type": "markdown",
   "metadata": {},
   "source": [
    "Inital Conditions"
   ]
  },
  {
   "cell_type": "code",
   "execution_count": 3,
   "metadata": {},
   "outputs": [],
   "source": [
    "x_init = 3\n",
    "y_init = 2"
   ]
  },
  {
   "cell_type": "markdown",
   "metadata": {},
   "source": [
    "Iterative Algorithm"
   ]
  },
  {
   "cell_type": "code",
   "execution_count": 4,
   "metadata": {},
   "outputs": [
    {
     "data": {
      "application/vnd.jupyter.widget-view+json": {
       "model_id": "29b080fb42bd47848a7d8437a7a05de4",
       "version_major": 2,
       "version_minor": 0
      },
      "text/plain": [
       "interactive(children=(FloatSlider(value=10.0, description='B', max=20.0, step=0.5), Output()), _dom_classes=('…"
      ]
     },
     "metadata": {},
     "output_type": "display_data"
    },
    {
     "data": {
      "text/plain": [
       "<function __main__.plots(B)>"
      ]
     },
     "execution_count": 4,
     "metadata": {},
     "output_type": "execute_result"
    }
   ],
   "source": [
    "def plots(B):\n",
    "    \n",
    "    x_init = 3\n",
    "    y_init = 2\n",
    "    \n",
    "    x_n = x_init\n",
    "    x_n_plus_1 = (y_init)*(delta_t) + (x_init)\n",
    "    t_n = 0\n",
    "\n",
    "    t_counter = []\n",
    "    x_counter = []\n",
    "    y_counter = []\n",
    "\n",
    "    for iter_count in range(100000):\n",
    "        t_n = (iter_count)*(delta_t) ; t_counter.append(t_n)\n",
    "        y_n = (x_n_plus_1 - x_n)/delta_t ; y_counter.append(y_n)\n",
    "        x_counter.append(x_n)\n",
    "        x_n_plus_2 = 2*(x_n_plus_1) - (x_n) + ((delta_t)**2)*(B*(np.cos(t_n)) - (x_n)**3) - ((k)*(delta_t))*((x_n_plus_1) - (x_n))\n",
    "        x_n = x_n_plus_1\n",
    "        x_n_plus_1 = x_n_plus_2\n",
    "\n",
    "    plt.plot(x_counter, y_counter,'g',label=\"Phase Portrait\") \n",
    "    plt.legend(loc='best')\n",
    "    \n",
    "    plt.figure()\n",
    "    \n",
    "    y_2npi = []\n",
    "    x_2npi = []\n",
    "    t_2npi = []\n",
    "    for i in range(len(t_counter) - 1):\n",
    "        if abs((y_counter[i+1]-y_counter[i])/delta_t + k*(x_counter[i+1]-x_counter[i])/delta_t + (x_counter[i])**3 - B) < 0.1:\n",
    "            y_2npi.append(y_counter[i])\n",
    "            x_2npi.append(x_counter[i])\n",
    "            t_2npi.append(t_counter[i])\n",
    "    plt.plot(x_2npi, y_2npi,'b.', label=\"Stroboscopic Map\")   \n",
    "    plt.legend(loc='best')\n",
    "    \n",
    "    plt.figure()\n",
    "\n",
    "    ax = plt.axes(projection='3d')\n",
    "\n",
    "    ax.plot3D(np.array(x_counter), np.array(y_counter), np.array(t_counter), label=\"xyt plot\") \n",
    "    plt.legend(loc='best')\n",
    "\n",
    "interact(plots, B=widgets.FloatSlider(min=0,max=20,step=0.5,value=10))"
   ]
  }
 ],
 "metadata": {
  "kernelspec": {
   "display_name": "Python 3",
   "language": "python",
   "name": "python3"
  },
  "language_info": {
   "codemirror_mode": {
    "name": "ipython",
    "version": 3
   },
   "file_extension": ".py",
   "mimetype": "text/x-python",
   "name": "python",
   "nbconvert_exporter": "python",
   "pygments_lexer": "ipython3",
   "version": "3.7.4"
  }
 },
 "nbformat": 4,
 "nbformat_minor": 2
}
